{
 "cells": [
  {
   "cell_type": "code",
   "execution_count": null,
   "id": "initial_id",
   "metadata": {
    "collapsed": true
   },
   "outputs": [],
   "source": [
    "from arch import arch_model\n",
    "import pandas as pd\n",
    "import numpy as np\n",
    "from IPython.core.interactiveshell import InteractiveShell\n",
    "InteractiveShell.ast_node_interactivity = \"all\""
   ]
  },
  {
   "cell_type": "code",
   "outputs": [],
   "source": [
    "AAPL_data = pd.read_csv('data/AAPL.csv')\n",
    "AAPL_data = AAPL_data.set_index('Date')\n",
    "\n",
    "#인덱스를 datetime으로 변경\n",
    "AAPL_data.index = pd.to_datetime(AAPL_data.index)\n",
    "AAPL_data['log_price_return'] = np.log(AAPL_data['Adj Close']).diff(1) \n",
    "AAPL_data['squared_log_price_return'] = AAPL_data['log_price_return'] ** 2\n",
    "\n",
    "#library에서 scale을 위해 100을 곱해서 사용\n",
    "returns = AAPL_data['log_price_return'].dropna()"
   ],
   "metadata": {
    "collapsed": false
   },
   "id": "28e637e331211c7a",
   "execution_count": null
  },
  {
   "cell_type": "code",
   "outputs": [],
   "source": [
    "from sklearn.preprocessing import MinMaxScaler\n",
    "scaler = MinMaxScaler()\n",
    "volatility = AAPL_data['squared_log_price_return'].dropna().rolling(window=4).sum() / 5.0\n",
    "normalzied_volatility = scaler.fit_transform(volatility.values.reshape(-1,1))\n"
   ],
   "metadata": {
    "collapsed": false
   },
   "id": "73a21a6f4d7d493a",
   "execution_count": null
  },
  {
   "cell_type": "code",
   "outputs": [],
   "source": [
    "import numpy as np\n",
    "from scipy.optimize import differential_evolution, LinearConstraint\n",
    "import arch\n",
    "\n",
    "# GARCH(1,1) 모델의 로그 우도 함수 정의\n",
    "def garch_log_likelihood(params, returns):\n",
    "    omega, alpha, beta = params\n",
    "    model = arch.arch_model(returns, vol='Garch',mean='Zero', p=1, q=1)\n",
    "    results = model.fit(disp='normal', show_warning=False, options={'maxiter': 0},\n",
    "                        starting_values=np.array([omega, alpha, beta]))\n",
    "    \n",
    "    log_likelihood = results.loglikelihood\n",
    "\n",
    "    print(log_likelihood)\n",
    "    print(params)\n",
    "    \n",
    "    return -log_likelihood\n",
    "\n",
    "returns = AAPL_data['log_price_return'].dropna() * 100 #scaling \n",
    "train_data= returns[:2999,]\n",
    "\n",
    "# 최적화 범위 설정\n",
    "bounds = [(0.0, 1.0), (0.0, 1.0), (0.0, 1.0)]\n",
    "#조건 alpha + beta < 1\n",
    "LC = LinearConstraint([[0,1,1]], lb=0, ub=1)\n",
    "\n",
    "# DE 알고리즘을 사용한 파라미터 추정\n",
    "# minimizing garch -log_likelihood \n",
    "result = differential_evolution(garch_log_likelihood, bounds=bounds, args=(train_data,), constraints=LC,\n",
    "                                strategy='best1bin', maxiter=30, popsize=20, tol=1e-4, mutation=(0.4, 1),\n",
    "                                recombination=0.7)\n",
    "\n",
    "\n",
    "print(\"Optimized GARCH(1,1) Parameters:\")\n",
    "print(result.x)\n"
   ],
   "metadata": {
    "collapsed": false
   },
   "id": "4a51678f122bddb4",
   "execution_count": null
  },
  {
   "cell_type": "code",
   "outputs": [],
   "source": [
    "omega, alpha, beta = [0.0016,0.32,0.67]\n",
    "# omega, alpha, beta = [0.10804462 ,0.1053612  ,0.8944112 ]\n",
    "\n",
    "model = arch.arch_model(returns, vol='Garch',mean='Zero', p=1, q=1)\n",
    "results = model.fit(disp='off', show_warning=False, options={'maxiter': 0},\n",
    "                    starting_values=np.array([omega, alpha, beta]))\n",
    "log_likelihood = results.loglikelihood\n",
    "-log_likelihood\n",
    "results.params"
   ],
   "metadata": {
    "collapsed": false
   },
   "id": "f4ee9542f1ac16cb",
   "execution_count": null
  },
  {
   "cell_type": "code",
   "outputs": [],
   "source": [
    "optimal_params = result.x"
   ],
   "metadata": {
    "collapsed": false
   },
   "id": "fe2a711fa3083c7b",
   "execution_count": null
  },
  {
   "cell_type": "code",
   "outputs": [],
   "source": [
    "import datetime as dt\n",
    "import matplotlib.pyplot as plt\n",
    "#train 까지 fit하고 나머지 예측\n",
    "returns = AAPL_data['log_price_return'].dropna() \n",
    "\n",
    "start = dt.datetime(2000,1,4)\n",
    "end = dt.datetime(2013,11,29)\n",
    "split_date = dt.datetime(2011,12,2)\n",
    "\n",
    "index = returns.index\n",
    "start_loc = 0\n",
    "end_loc = np.where(index >= split_date)[0].min()\n",
    "\n",
    "AAPL_garch = arch_model(returns, vol='Garch', p=1, o = 0, q = 1, dist='Normal')\n",
    "fixes = AAPL_garch.fix([1.20539592e-05 ,1.04978855e-01, 8.92015168e-01])\n",
    "# fixes = AAPL_garch.fix([0.0016,0.32,0.67])\n",
    "forecasts = fixes.forecast(start = end_loc)\n",
    "plt.plot(forecasts.variance.dropna())\n",
    "\n",
    "forecasts.variance.dropna()"
   ],
   "metadata": {
    "collapsed": false
   },
   "id": "b2b2ae93bacd163b",
   "execution_count": null
  },
  {
   "cell_type": "code",
   "outputs": [],
   "source": [
    "AAPL_data = pd.read_csv('data/AAPL.csv')\n",
    "AAPL_data['log_price_return'] = np.log(AAPL_data['Adj Close']).diff(1)\n",
    "AAPL_data['squared_log_price_return'] = AAPL_data['log_price_return'] ** 2\n",
    "import matplotlib.pyplot as plt\n",
    "from sklearn.preprocessing import MinMaxScaler\n",
    "#논문에서 명시된 realized volatility \n",
    "volatility = AAPL_data['squared_log_price_return'].dropna().rolling(window=5).sum() / 5.0\n",
    "\n",
    "ret = AAPL_data['squared_log_price_return'].dropna() \n",
    "\n",
    "plt.figure(figsize=(10,6))\n",
    "#volatility 정규화\n",
    "scaler = MinMaxScaler()\n",
    "normalzied_volatility = scaler.fit_transform(volatility.values.reshape(-1,1))\n",
    "plt.plot(normalzied_volatility[2999:])\n"
   ],
   "metadata": {
    "collapsed": false
   },
   "id": "b5ef21805c19271",
   "execution_count": null
  },
  {
   "cell_type": "code",
   "outputs": [],
   "source": [],
   "metadata": {
    "collapsed": false
   },
   "id": "fceadb1799df20c8"
  }
 ],
 "metadata": {
  "kernelspec": {
   "name": "intern_project",
   "language": "python",
   "display_name": "intern_project"
  },
  "language_info": {
   "codemirror_mode": {
    "name": "ipython",
    "version": 2
   },
   "file_extension": ".py",
   "mimetype": "text/x-python",
   "name": "python",
   "nbconvert_exporter": "python",
   "pygments_lexer": "ipython2",
   "version": "2.7.6"
  }
 },
 "nbformat": 4,
 "nbformat_minor": 5
}
