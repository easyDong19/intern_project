{
 "cells": [
  {
   "cell_type": "code",
   "execution_count": 2,
   "id": "initial_id",
   "metadata": {
    "collapsed": true,
    "ExecuteTime": {
     "end_time": "2024-02-16T05:55:36.592809Z",
     "start_time": "2024-02-16T05:55:36.186732Z"
    }
   },
   "outputs": [],
   "source": [
    "from sklearn.preprocessing import MinMaxScaler\n",
    "import pandas as pd\n",
    "scaler_minmax = MinMaxScaler()"
   ]
  },
  {
   "cell_type": "code",
   "outputs": [],
   "source": [
    "df = pd.DataFrame()\n",
    "arr1 = [1,2,3,4,5]\n",
    "arr2 = [-3,-2,1,3,2]\n",
    "\n",
    "df['arr1'] = arr1\n",
    "df['arr2'] = arr2"
   ],
   "metadata": {
    "collapsed": false,
    "ExecuteTime": {
     "end_time": "2024-02-16T05:56:20.409393Z",
     "start_time": "2024-02-16T05:56:20.406567Z"
    }
   },
   "id": "b6d5c74fcf293af7",
   "execution_count": 4
  },
  {
   "cell_type": "code",
   "outputs": [
    {
     "data": {
      "text/plain": "   arr1  arr2\n0     1    -3\n1     2    -2\n2     3     1\n3     4     3\n4     5     2",
      "text/html": "<div>\n<style scoped>\n    .dataframe tbody tr th:only-of-type {\n        vertical-align: middle;\n    }\n\n    .dataframe tbody tr th {\n        vertical-align: top;\n    }\n\n    .dataframe thead th {\n        text-align: right;\n    }\n</style>\n<table border=\"1\" class=\"dataframe\">\n  <thead>\n    <tr style=\"text-align: right;\">\n      <th></th>\n      <th>arr1</th>\n      <th>arr2</th>\n    </tr>\n  </thead>\n  <tbody>\n    <tr>\n      <th>0</th>\n      <td>1</td>\n      <td>-3</td>\n    </tr>\n    <tr>\n      <th>1</th>\n      <td>2</td>\n      <td>-2</td>\n    </tr>\n    <tr>\n      <th>2</th>\n      <td>3</td>\n      <td>1</td>\n    </tr>\n    <tr>\n      <th>3</th>\n      <td>4</td>\n      <td>3</td>\n    </tr>\n    <tr>\n      <th>4</th>\n      <td>5</td>\n      <td>2</td>\n    </tr>\n  </tbody>\n</table>\n</div>"
     },
     "execution_count": 5,
     "metadata": {},
     "output_type": "execute_result"
    }
   ],
   "source": [
    "df"
   ],
   "metadata": {
    "collapsed": false,
    "ExecuteTime": {
     "end_time": "2024-02-16T05:56:20.845703Z",
     "start_time": "2024-02-16T05:56:20.837324Z"
    }
   },
   "id": "2f83eb5beb2a3c9e",
   "execution_count": 5
  },
  {
   "cell_type": "code",
   "outputs": [
    {
     "data": {
      "text/plain": "array([[0.        , 0.        ],\n       [0.25      , 0.16666667],\n       [0.5       , 0.66666667],\n       [0.75      , 1.        ],\n       [1.        , 0.83333333]])"
     },
     "execution_count": 6,
     "metadata": {},
     "output_type": "execute_result"
    }
   ],
   "source": [
    "scaler_minmax.fit_transform(df)"
   ],
   "metadata": {
    "collapsed": false,
    "ExecuteTime": {
     "end_time": "2024-02-16T05:56:46.775319Z",
     "start_time": "2024-02-16T05:56:46.716897Z"
    }
   },
   "id": "62b77269329e6c84",
   "execution_count": 6
  },
  {
   "cell_type": "code",
   "outputs": [
    {
     "data": {
      "text/plain": "array([[0.        ],\n       [0.16666667],\n       [0.66666667],\n       [1.        ],\n       [0.83333333]])"
     },
     "execution_count": 7,
     "metadata": {},
     "output_type": "execute_result"
    }
   ],
   "source": [
    "df2 = pd.DataFrame()\n",
    "scaler_minmax = MinMaxScaler()\n",
    "df2['arr2'] = arr2\n",
    "scaler_minmax.fit_transform(df2)"
   ],
   "metadata": {
    "collapsed": false,
    "ExecuteTime": {
     "end_time": "2024-02-16T05:58:01.341843Z",
     "start_time": "2024-02-16T05:58:01.337309Z"
    }
   },
   "id": "afa9c55b3f989bef",
   "execution_count": 7
  },
  {
   "cell_type": "code",
   "outputs": [],
   "source": [],
   "metadata": {
    "collapsed": false
   },
   "id": "1debf7a9c49c7d95"
  }
 ],
 "metadata": {
  "kernelspec": {
   "name": "intern_project",
   "language": "python",
   "display_name": "intern_project"
  },
  "language_info": {
   "codemirror_mode": {
    "name": "ipython",
    "version": 2
   },
   "file_extension": ".py",
   "mimetype": "text/x-python",
   "name": "python",
   "nbconvert_exporter": "python",
   "pygments_lexer": "ipython2",
   "version": "2.7.6"
  }
 },
 "nbformat": 4,
 "nbformat_minor": 5
}
